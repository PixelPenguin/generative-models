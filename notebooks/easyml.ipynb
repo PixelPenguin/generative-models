{
 "cells": [
  {
   "cell_type": "code",
   "execution_count": 1,
   "metadata": {},
   "outputs": [],
   "source": [
    "import sys\n",
    "sys.path.append('../')"
   ]
  },
  {
   "cell_type": "code",
   "execution_count": 2,
   "metadata": {
    "tags": []
   },
   "outputs": [
    {
     "output_type": "stream",
     "name": "stdout",
     "text": "Training params: cv=5, stratify=True, tune_hparams=True, n_trials=1, timeout=3600\nFold #0 |Elapsed time: 0.1  [sec] |Train auc: 1.000 |Valid auc: 1.000\nFold #1 |Elapsed time: 0.3  [sec] |Train auc: 1.000 |Valid auc: 1.000\nFold #2 |Elapsed time: 7.7  [sec] |Train auc: 1.000 |Valid auc: 1.000\nFold #3 |Elapsed time: 9.5  [sec] |Train auc: 1.000 |Valid auc: 1.000\nFold #4 |Elapsed time: 2.8  [sec] |Train auc: 1.000 |Valid auc: 1.000\n"
    },
    {
     "output_type": "execute_result",
     "data": {
      "text/plain": "<penguin_libraries.EasyML.main.Main at 0x7fc618b76490>"
     },
     "metadata": {},
     "execution_count": 2
    }
   ],
   "source": [
    "from penguin_libraries import EasyML\n",
    "from sklearn.datasets import load_iris\n",
    "import numpy as np\n",
    "\n",
    "data = load_iris()\n",
    "X = data.data\n",
    "y = np.where(data.target > 0, 1, 0)\n",
    "\n",
    "model = EasyML()\n",
    "model.fit(X, y, n_trials=1)\n"
   ]
  },
  {
   "cell_type": "code",
   "execution_count": 3,
   "metadata": {
    "tags": []
   },
   "outputs": [
    {
     "output_type": "stream",
     "name": "stdout",
     "text": "<bound method LGBMModel.get_params of LGBMClassifier(learning_rate=0.20125798071166598, min_child_samples=8,\n               num_leaves=186)>\n<bound method LGBMModel.get_params of LGBMClassifier(learning_rate=0.0668897989058169, min_child_samples=10,\n               num_leaves=26)>\n<bound method LGBMModel.get_params of LGBMClassifier(boosting_type='dart', learning_rate=0.2418739671557034,\n               min_child_samples=9, num_leaves=149)>\n<bound method LGBMModel.get_params of LGBMClassifier(boosting_type='dart', learning_rate=0.029207368287208484,\n               min_child_samples=8, num_leaves=228)>\n<bound method LGBMModel.get_params of LGBMClassifier(learning_rate=0.004890956924690016, min_child_samples=10,\n               num_leaves=232)>\n"
    }
   ],
   "source": [
    "for i in range(5):\n",
    "    print(model._estimator_list[i].get_params)"
   ]
  },
  {
   "cell_type": "code",
   "execution_count": null,
   "metadata": {},
   "outputs": [],
   "source": []
  }
 ],
 "metadata": {
  "language_info": {
   "codemirror_mode": {
    "name": "ipython",
    "version": 3
   },
   "file_extension": ".py",
   "mimetype": "text/x-python",
   "name": "python",
   "nbconvert_exporter": "python",
   "pygments_lexer": "ipython3",
   "version": "3.7.4-final"
  },
  "orig_nbformat": 2,
  "kernelspec": {
   "name": "python37464bit374pyenv905a53b170d24ab6985db319e6121805",
   "display_name": "Python 3.7.4 64-bit ('3.7.4': pyenv)"
  }
 },
 "nbformat": 4,
 "nbformat_minor": 2
}