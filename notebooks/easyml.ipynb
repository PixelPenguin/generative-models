{
 "cells": [
  {
   "cell_type": "code",
   "execution_count": 1,
   "metadata": {},
   "outputs": [],
   "source": [
    "import sys\n",
    "sys.path.append('../')\n",
    "from src import EasyML"
   ]
  },
  {
   "cell_type": "code",
   "execution_count": 2,
   "metadata": {},
   "outputs": [],
   "source": [
    "from sklearn.datasets import load_iris\n",
    "import numpy as np\n",
    "\n",
    "data = load_iris()\n",
    "X = data.data\n",
    "y = np.where(data.target > 0, 1, 0)\n",
    "# display(X, y)"
   ]
  },
  {
   "cell_type": "code",
   "execution_count": 3,
   "metadata": {
    "tags": []
   },
   "outputs": [
    {
     "output_type": "stream",
     "name": "stderr",
     "text": "[train]:   0%|          | 0/5 [00:57<?, ?it/s, train_score=1, val_score=1]Finished loading model, total used 100 iterations\n[train]:  20%|██        | 1/5 [01:55<03:51, 57.78s/it, train_score=1, val_score=1]Finished loading model, total used 100 iterations\n[train]:  40%|████      | 2/5 [03:00<02:53, 57.79s/it, train_score=0.994, val_score=1]Finished loading model, total used 100 iterations\n[train]:  60%|██████    | 3/5 [04:06<01:59, 59.94s/it, train_score=1, val_score=0.995]Finished loading model, total used 100 iterations\n[train]:  80%|████████  | 4/5 [05:18<01:01, 61.66s/it, train_score=1, val_score=1]Finished loading model, total used 100 iterations\n[train]: 100%|██████████| 5/5 [05:18<00:00, 63.68s/it, train_score=1, val_score=1]\n"
    }
   ],
   "source": [
    "model = EasyML()\n",
    "model.fit(X, y)"
   ]
  },
  {
   "cell_type": "code",
   "execution_count": 7,
   "metadata": {},
   "outputs": [
    {
     "output_type": "execute_result",
     "data": {
      "text/plain": "{'train': (0.99821875, 0.0023251344047172736),\n 'val': (0.998, 0.0040000000000000036)}"
     },
     "metadata": {},
     "execution_count": 7
    }
   ],
   "source": [
    "model.score"
   ]
  }
 ],
 "metadata": {
  "language_info": {
   "codemirror_mode": {
    "name": "ipython",
    "version": 3
   },
   "file_extension": ".py",
   "mimetype": "text/x-python",
   "name": "python",
   "nbconvert_exporter": "python",
   "pygments_lexer": "ipython3",
   "version": "3.7.4-final"
  },
  "orig_nbformat": 2,
  "kernelspec": {
   "name": "python37464bit374pyenv905a53b170d24ab6985db319e6121805",
   "display_name": "Python 3.7.4 64-bit ('3.7.4': pyenv)"
  }
 },
 "nbformat": 4,
 "nbformat_minor": 2
}